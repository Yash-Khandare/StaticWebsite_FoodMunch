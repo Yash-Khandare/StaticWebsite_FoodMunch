{
  "nbformat": 4,
  "nbformat_minor": 0,
  "metadata": {
    "colab": {
      "name": "Function.ipynb",
      "provenance": [],
      "collapsed_sections": [],
      "authorship_tag": "ABX9TyOroMtDfaWxktANubBDSQt+",
      "include_colab_link": true
    },
    "kernelspec": {
      "name": "python3",
      "display_name": "Python 3"
    },
    "language_info": {
      "name": "python"
    }
  },
  "cells": [
    {
      "cell_type": "markdown",
      "metadata": {
        "id": "view-in-github",
        "colab_type": "text"
      },
      "source": [
        "<a href=\"https://colab.research.google.com/github/yrk26/StaticWebsite_FoodMunch/blob/main/Function.ipynb\" target=\"_parent\"><img src=\"https://colab.research.google.com/assets/colab-badge.svg\" alt=\"Open In Colab\"/></a>"
      ]
    },
    {
      "cell_type": "markdown",
      "metadata": {
        "id": "2IHt1JPAJQSa"
      },
      "source": [
        "# **Functions**"
      ]
    },
    {
      "cell_type": "code",
      "metadata": {
        "id": "CI_Epdp7JX0v"
      },
      "source": [
        "def print_name(name):\n",
        "  print(\"Hello \"+ str(name))"
      ],
      "execution_count": null,
      "outputs": []
    },
    {
      "cell_type": "code",
      "metadata": {
        "colab": {
          "base_uri": "https://localhost:8080/",
          "height": 165
        },
        "id": "fPQYTiH4Jxag",
        "outputId": "68d3e1b0-3490-421e-dac1-f0d2efaed8f9"
      },
      "source": [
        "print_name(\"Yash\")"
      ],
      "execution_count": null,
      "outputs": [
        {
          "output_type": "error",
          "ename": "NameError",
          "evalue": "ignored",
          "traceback": [
            "\u001b[0;31m---------------------------------------------------------------------------\u001b[0m",
            "\u001b[0;31mNameError\u001b[0m                                 Traceback (most recent call last)",
            "\u001b[0;32m<ipython-input-3-caefa0669f31>\u001b[0m in \u001b[0;36m<module>\u001b[0;34m()\u001b[0m\n\u001b[0;32m----> 1\u001b[0;31m \u001b[0mprint_name\u001b[0m\u001b[0;34m(\u001b[0m\u001b[0;34m\"Yash\"\u001b[0m\u001b[0;34m)\u001b[0m\u001b[0;34m\u001b[0m\u001b[0;34m\u001b[0m\u001b[0m\n\u001b[0m",
            "\u001b[0;31mNameError\u001b[0m: name 'print_name' is not defined"
          ]
        }
      ]
    },
    {
      "cell_type": "code",
      "metadata": {
        "id": "NiWUHgWhK2FE"
      },
      "source": [
        "def getsum(lst):\n",
        "  sum=0\n",
        "  for num in lst:\n",
        "    sum += num\n",
        "  return sum\n"
      ],
      "execution_count": null,
      "outputs": []
    },
    {
      "cell_type": "code",
      "metadata": {
        "colab": {
          "base_uri": "https://localhost:8080/"
        },
        "id": "KPO0DiDJJ1nL",
        "outputId": "f74ca8b8-b7e2-43fb-91de-7f2f14b1e400"
      },
      "source": [
        "a=getsum([1,5,9])\n",
        "print(a)"
      ],
      "execution_count": null,
      "outputs": [
        {
          "output_type": "stream",
          "name": "stdout",
          "text": [
            "15\n"
          ]
        }
      ]
    },
    {
      "cell_type": "markdown",
      "metadata": {
        "id": "YAe25gy_RuZq"
      },
      "source": [
        "# **Calculating HCF**"
      ]
    },
    {
      "cell_type": "code",
      "metadata": {
        "colab": {
          "base_uri": "https://localhost:8080/"
        },
        "id": "QXbJi6CdK1pY",
        "outputId": "3ed19244-bb92-41c8-8061-dc7b3fcccf4d"
      },
      "source": [
        "def calculateHCF(a,b):\n",
        "  smaller = b if b<a else a\n",
        "  hcf = 1\n",
        "  for i in range (1,smaller+1):\n",
        "    if(a%2==0 and b%2 == 0):\n",
        "      hcf = i\n",
        "    return hcf\n",
        "\n",
        "num1 =int(input())\n",
        "num2 = int(input())\n",
        "print( \" HCF of {0} and {1} is : {2}\".format( int(num1), int(num2), calculateHCF(int(num1),int(num2))))\n"
      ],
      "execution_count": null,
      "outputs": [
        {
          "output_type": "stream",
          "name": "stdout",
          "text": [
            "78\n",
            "89\n",
            " HCF of 78 and 89 is : 1\n"
          ]
        }
      ]
    },
    {
      "cell_type": "code",
      "metadata": {
        "colab": {
          "base_uri": "https://localhost:8080/"
        },
        "id": "WmIYNAJQwLKJ",
        "outputId": "cb7efd7f-9ee9-43e7-a7fd-a97eab69cb50"
      },
      "source": [
        " numbers= [1,2,3,4,5]\n",
        "\n",
        " def poweroftwo(num):\n",
        "   return num**2\n",
        "\n",
        "squared = list(map(poweroftwo,numbers))\n",
        "print(squared)"
      ],
      "execution_count": null,
      "outputs": [
        {
          "output_type": "stream",
          "name": "stdout",
          "text": [
            "[1, 4, 9, 16, 25]\n"
          ]
        }
      ]
    },
    {
      "cell_type": "markdown",
      "metadata": {
        "id": "NigqXLp372Q3"
      },
      "source": [
        "**Arbitrary Argument**"
      ]
    },
    {
      "cell_type": "code",
      "metadata": {
        "colab": {
          "base_uri": "https://localhost:8080/"
        },
        "id": "qXrU2qdT7-S3",
        "outputId": "ca80ea7a-9004-459f-d631-93e3b30a1f7c"
      },
      "source": [
        "def greet(*names):\n",
        "  print(names)\n",
        "  for name in names:\n",
        "    print(\"Hello {0}\".format(name))\n",
        "\n",
        "greet(\"Yash\",\"Ayush\",\"Khandare\")"
      ],
      "execution_count": null,
      "outputs": [
        {
          "output_type": "stream",
          "name": "stdout",
          "text": [
            "('Yash', 'Ayush', 'Khandare')\n",
            "Hello Yash\n",
            "Hello Ayush\n",
            "Hello Khandare\n"
          ]
        }
      ]
    },
    {
      "cell_type": "markdown",
      "metadata": {
        "id": "_UNMQHxUSlz8"
      },
      "source": [
        "# **Recursion**"
      ]
    },
    {
      "cell_type": "code",
      "metadata": {
        "colab": {
          "base_uri": "https://localhost:8080/"
        },
        "id": "8_mxWCqaGchy",
        "outputId": "924b8bba-3793-49dc-cecf-0bf60304a5c6"
      },
      "source": [
        "def factorial(num):\n",
        "  return 1 if num==1 else (num * factorial(num-1))\n",
        "num = 5\n",
        "print(\"Factorial of {0} is {1}\".format(num,factorial(num)))"
      ],
      "execution_count": null,
      "outputs": [
        {
          "output_type": "stream",
          "name": "stdout",
          "text": [
            "Factorial of 5 is 120\n"
          ]
        }
      ]
    },
    {
      "cell_type": "code",
      "metadata": {
        "colab": {
          "base_uri": "https://localhost:8080/"
        },
        "id": "d2bhXOkIHC2J",
        "outputId": "45b2ce81-d273-493e-f003-6e8aa89382ad"
      },
      "source": [
        "def fibo(num):\n",
        "  return num if (num <=2) else fibo(num - 1) + fibo(num - 2)\n",
        "nterms=10\n",
        "print(\"Fibonacci Sequence\")\n",
        "for num in range(nterms):\n",
        "    print(fibo(num))"
      ],
      "execution_count": null,
      "outputs": [
        {
          "output_type": "stream",
          "name": "stdout",
          "text": [
            "Fibonacci Sequence\n",
            "0\n",
            "1\n",
            "2\n",
            "3\n",
            "5\n",
            "8\n",
            "13\n",
            "21\n",
            "34\n",
            "55\n"
          ]
        }
      ]
    },
    {
      "cell_type": "code",
      "metadata": {
        "id": "ZRxlCMCiLNF-"
      },
      "source": [
        ""
      ],
      "execution_count": null,
      "outputs": []
    }
  ]
}